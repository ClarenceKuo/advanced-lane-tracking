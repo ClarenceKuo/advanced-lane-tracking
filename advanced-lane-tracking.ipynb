{
 "cells": [
  {
   "cell_type": "markdown",
   "metadata": {},
   "source": [
    "## Advanced Lane Finding Project\n",
    "\n",
    "The goals / steps of this project are the following:\n",
    "\n",
    "* Compute the camera calibration matrix and distortion coefficients given a set of chessboard images.\n",
    "* Apply a distortion correction to raw images.\n",
    "* Use color transforms, gradients, etc., to create a thresholded binary image.\n",
    "* Apply a perspective transform to rectify binary image (\"birds-eye view\").\n",
    "* Detect lane pixels and fit to find the lane boundary.\n",
    "* Determine the curvature of the lane and vehicle position with respect to center.\n",
    "* Warp the detected lane boundaries back onto the original image.\n",
    "* Output visual display of the lane boundaries and numerical estimation of lane curvature and vehicle position."
   ]
  },
  {
   "cell_type": "code",
   "execution_count": 73,
   "metadata": {},
   "outputs": [],
   "source": [
    "# Importing libraries\n",
    "import numpy as np\n",
    "import cv2\n",
    "import glob\n",
    "import matplotlib.pyplot as plt\n",
    "import pickle\n",
    "import os\n",
    "%matplotlib qt"
   ]
  },
  {
   "cell_type": "markdown",
   "metadata": {},
   "source": [
    "# Camera Calibration\n",
    "Reference from: [here](https://github.com/udacity/CarND-Camera-Calibration/blob/master/camera_calibration.ipynb)"
   ]
  },
  {
   "cell_type": "code",
   "execution_count": 91,
   "metadata": {},
   "outputs": [],
   "source": [
    "def camera_calibration(nx = 6,ny = 9):\n",
    "    objp = np.zeros((nx * ny,3), np.float32)\n",
    "    objp[:,:2] = np.mgrid[0:ny, 0:nx].T.reshape(-1,2)\n",
    "    objpoints = [] # 3d points in real world space\n",
    "    imgpoints = [] # 2d points in image plane.\n",
    "    images = glob.glob('camera_cal/calibration*.jpg')\n",
    "    for idx, fname in enumerate(images):\n",
    "        img = cv2.imread(fname)\n",
    "        gray = cv2.cvtColor(img, cv2.COLOR_BGR2GRAY)\n",
    "\n",
    "        # Find the chessboard corners\n",
    "        ret, corners = cv2.findChessboardCorners(gray, (ny,nx), None)\n",
    "\n",
    "        # If found, add object points, image points\n",
    "        if ret == True:\n",
    "            objpoints.append(objp)\n",
    "            imgpoints.append(corners)\n",
    "    # Test undistortion on an image\n",
    "    img = cv2.imread('camera_cal/calibration1.jpg')\n",
    "    img_size = (img.shape[1], img.shape[0])\n",
    "\n",
    "    # Do camera calibration given object points and image points\n",
    "    retval, mtx, dist, rvecs, tvecs = cv2.calibrateCamera(objpoints, imgpoints, img_size,None,None)\n",
    "\n",
    "    dst = cv2.undistort(img, mtx, dist, None, mtx)\n",
    "    vis = np.concatenate((img, dst), axis=1)\n",
    "    cv2.imwrite('output_images/calibration1_undist.jpg',vis)\n",
    "    \n",
    "    # Save the camera calibration result\n",
    "    dist_pickle = {}\n",
    "    dist_pickle[\"mtx\"] = mtx\n",
    "    dist_pickle[\"dist\"] = dist\n",
    "    outfile = open(\"cam_cal.p\", \"wb\")\n",
    "    pickle.dump(dist_pickle, outfile)\n",
    "    outfile.close()\n",
    "    return {\"mtx\":mtx, \"dist\":dist}"
   ]
  },
  {
   "cell_type": "code",
   "execution_count": 89,
   "metadata": {},
   "outputs": [],
   "source": [
    "def cal_test(dist_pickle):\n",
    "    images = glob.glob('test_images/*.jpg') \n",
    "    for path in images:\n",
    "        img = cv2.imread(path)\n",
    "        _, filename = os.path.split(path)\n",
    "        dst = cv2.undistort(img, dist_pickle[\"mtx\"], dist_pickle[\"dist\"], None, dist_pickle[\"mtx\"])\n",
    "        output_path = 'output_images/cal_test/cal_' + filename\n",
    "        vis = np.concatenate((img, dst), axis=1)\n",
    "        cv2.imwrite(output_path,vis)"
   ]
  },
  {
   "cell_type": "code",
   "execution_count": 90,
   "metadata": {},
   "outputs": [],
   "source": [
    "#read in cal file or re-cal\n",
    "dist_pickle = {}\n",
    "try:\n",
    "    infile = open(\"cam_cal.p\",'rb')\n",
    "    dist_pickle = pickle.load(infile)\n",
    "except:\n",
    "    dist_pickle = camera_calibration()\n",
    "cal_test(dist_pickle)"
   ]
  }
 ],
 "metadata": {
  "anaconda-cloud": {},
  "kernelspec": {
   "display_name": "Python 3",
   "language": "python",
   "name": "python3"
  },
  "language_info": {
   "codemirror_mode": {
    "name": "ipython",
    "version": 3
   },
   "file_extension": ".py",
   "mimetype": "text/x-python",
   "name": "python",
   "nbconvert_exporter": "python",
   "pygments_lexer": "ipython3",
   "version": "3.7.6"
  }
 },
 "nbformat": 4,
 "nbformat_minor": 1
}
