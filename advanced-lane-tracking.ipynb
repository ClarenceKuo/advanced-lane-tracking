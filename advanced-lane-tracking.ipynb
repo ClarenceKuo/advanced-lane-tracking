{
 "cells": [
  {
   "cell_type": "markdown",
   "metadata": {},
   "source": [
    "## Advanced Lane Finding Project\n",
    "\n",
    "The goals / steps of this project are the following:\n",
    "\n",
    "* Compute the camera calibration matrix and distortion coefficients given a set of chessboard images.\n",
    "* Apply a distortion correction to raw images.\n",
    "* Use color transforms, gradients, etc., to create a thresholded binary image.\n",
    "* Apply a perspective transform to rectify binary image (\"birds-eye view\").\n",
    "* Detect lane pixels and fit to find the lane boundary.\n",
    "* Determine the curvature of the lane and vehicle position with respect to center.\n",
    "* Warp the detected lane boundaries back onto the original image.\n",
    "* Output visual display of the lane boundaries and numerical estimation of lane curvature and vehicle position."
   ]
  },
  {
   "cell_type": "code",
   "execution_count": 1,
   "metadata": {},
   "outputs": [],
   "source": [
    "# Importing libraries\n",
    "import numpy as np\n",
    "import cv2\n",
    "import glob\n",
    "import matplotlib.pyplot as plt\n",
    "import matplotlib.image as mpimg\n",
    "import pickle\n",
    "import os\n",
    "%matplotlib qt"
   ]
  },
  {
   "cell_type": "markdown",
   "metadata": {},
   "source": [
    "# Camera Calibration\n",
    "Reference from: [here](https://github.com/udacity/CarND-Camera-Calibration/blob/master/camera_calibration.ipynb)"
   ]
  },
  {
   "cell_type": "code",
   "execution_count": 2,
   "metadata": {},
   "outputs": [],
   "source": [
    "def camera_calibration(nx = 6,ny = 9):\n",
    "    objp = np.zeros((nx * ny,3), np.float32)\n",
    "    objp[:,:2] = np.mgrid[0:ny, 0:nx].T.reshape(-1,2)\n",
    "    objpoints = [] # 3d points in real world space\n",
    "    imgpoints = [] # 2d points in image plane.\n",
    "    images = glob.glob('camera_cal/calibration*.jpg')\n",
    "    for idx, fname in enumerate(images):\n",
    "        img = cv2.imread(fname)\n",
    "        gray = cv2.cvtColor(img, cv2.COLOR_BGR2GRAY)\n",
    "\n",
    "        # Find the chessboard corners\n",
    "        ret, corners = cv2.findChessboardCorners(gray, (ny,nx), None)\n",
    "\n",
    "        # If found, add object points, image points\n",
    "        if ret == True:\n",
    "            objpoints.append(objp)\n",
    "            imgpoints.append(corners)\n",
    "    # Test undistortion on an image\n",
    "    img = cv2.imread('camera_cal/calibration1.jpg')\n",
    "    img_size = (img.shape[1], img.shape[0])\n",
    "\n",
    "    # Do camera calibration given object points and image points\n",
    "    retval, mtx, dist, rvecs, tvecs = cv2.calibrateCamera(objpoints, imgpoints, img_size,None,None)\n",
    "\n",
    "    dst = cv2.undistort(img, mtx, dist, None, mtx)\n",
    "    vis = np.concatenate((img, dst), axis=1)\n",
    "    cv2.imwrite('output_images/calibration1_undist.jpg',vis)\n",
    "    \n",
    "    # Save the camera calibration result\n",
    "    dist_pickle = {}\n",
    "    dist_pickle[\"mtx\"] = mtx\n",
    "    dist_pickle[\"dist\"] = dist\n",
    "    outfile = open(\"cam_cal.p\", \"wb\")\n",
    "    pickle.dump(dist_pickle, outfile)\n",
    "    outfile.close()\n",
    "    return {\"mtx\":mtx, \"dist\":dist}"
   ]
  },
  {
   "cell_type": "code",
   "execution_count": 3,
   "metadata": {},
   "outputs": [],
   "source": [
    "def cal_test(dist_pickle):\n",
    "    images = glob.glob('test_images/*.jpg') \n",
    "    for path in images:\n",
    "        img = cv2.imread(path)\n",
    "        _, filename = os.path.split(path)\n",
    "        dst = cv2.undistort(img, dist_pickle[\"mtx\"], dist_pickle[\"dist\"], None, dist_pickle[\"mtx\"])\n",
    "        output_path = 'output_images/cal_test/cal_' + filename\n",
    "        vis = np.concatenate((img, dst), axis=1)\n",
    "        cv2.imwrite(output_path,vis)"
   ]
  },
  {
   "cell_type": "markdown",
   "metadata": {},
   "source": [
    "# Gradient Filtering "
   ]
  },
  {
   "cell_type": "code",
   "execution_count": 45,
   "metadata": {},
   "outputs": [],
   "source": [
    "def abs_sobel_thresh(gray, axis, sobel_kernel=3, thresh=(20, 100)):\n",
    "    if axis == 'x':\n",
    "        sobel = cv2.Sobel(gray, cv2.CV_64F, 1, 0)\n",
    "    else:\n",
    "        sobel = cv2.Sobel(gray, cv2.CV_64F, 0, 1)\n",
    "        \n",
    "    abs_sobel = np.absolute(sobel)\n",
    "    scaled_sobel = np.uint8(255*abs_sobel/np.max(abs_sobel))\n",
    "    \n",
    "    grad_binary = np.zeros_like(gray)\n",
    "    grad_binary[((scaled_sobel > thresh[0]) & (scaled_sobel < thresh[1]))] = 255\n",
    "    return grad_binary\n",
    "\n",
    "def mag_thresh(gray, sobel_kernel=3, mag_thresh=(0, 255)):\n",
    "    # Calculate gradient magnitude\n",
    "    sobelx = cv2.Sobel(gray, cv2.CV_64F, 1, 0)\n",
    "    sobely = cv2.Sobel(gray, cv2.CV_64F, 0, 1)\n",
    "    abs_mag = np.sqrt(sobelx**2 + sobely**2)\n",
    "    scaled = np.uint8(255*abs_mag/np.max(abs_mag))\n",
    "    # Apply threshold\n",
    "    mag_binary = np.zeros_like(gray)\n",
    "    mag_binary[((scaled > mag_thresh[0])&(scaled < mag_thresh[1]))] = 255\n",
    "    return mag_binary\n",
    "\n",
    "def dir_threshold(gray, sobel_kernel=3, thresh=(0, np.pi/2)):\n",
    "    # Calculate gradient direction\n",
    "    sobelx = cv2.Sobel(gray, cv2.CV_64F, 1, 0)\n",
    "    sobely = cv2.Sobel(gray, cv2.CV_64F, 0, 1)\n",
    "    abs_x = np.absolute(sobelx)\n",
    "    abs_y = np.absolute(sobely)\n",
    "    direct = np.arctan2(abs_y, abs_x)\n",
    "    binary_output = np.zeros_like(gray)\n",
    "    binary_output[(direct > thresh[0]) & (direct < thresh[1])] = 255\n",
    "    return binary_output\n",
    "\n",
    "def filtering(ksize = 3, path='test_images/straight_lines1.jpg', img = None):\n",
    "    if len(img) == 0:\n",
    "        img = mpimg.imread(path)\n",
    "    gray_image = cv2.cvtColor(img, cv2.COLOR_RGB2GRAY)\n",
    "    blur_gray = cv2.GaussianBlur(gray_image,(3,3),0)\n",
    "    # Apply each of the thresholding functions\n",
    "    gradx = abs_sobel_thresh(gray_image, axis = 'x',sobel_kernel=ksize, thresh=(25, 200))\n",
    "    dir_binary = dir_threshold(blur_gray, sobel_kernel=ksize, thresh=(np.pi/4, np.pi/4 + 0.3))\n",
    "    gradx_direct = np.zeros_like(gray_image)\n",
    "    gradx_direct[(gradx == 255)&(dir_binary == 255)] = 255\n",
    "    return gradx, dir_binary, gradx_direct\n",
    "\n",
    "def filtering_test():\n",
    "    images = glob.glob('test_images/*.jpg') \n",
    "    for path in images:\n",
    "        img = cv2.imread(path)\n",
    "        _, filename = os.path.split(path)\n",
    "        gradx, dir_binary, gradx_dir = filtering(path = path)\n",
    "        output_path_x = 'output_images/filter_test/gradx_' + filename\n",
    "        output_path_dir = 'output_images/filter_test/dir_' + filename\n",
    "        output_path_x_dir = 'output_images/filter_test/x_dir_' + filename\n",
    "        cv2.imwrite(output_path_x,gradx)\n",
    "        cv2.imwrite(output_path_dir,dir_binary)\n",
    "        cv2.imwrite(output_path_x_dir,dir_binary)\n"
   ]
  },
  {
   "cell_type": "code",
   "execution_count": 46,
   "metadata": {},
   "outputs": [],
   "source": [
    "cv2.destroyAllWindows()"
   ]
  },
  {
   "cell_type": "markdown",
   "metadata": {},
   "source": [
    "# Color Filtering"
   ]
  },
  {
   "cell_type": "code",
   "execution_count": 47,
   "metadata": {},
   "outputs": [],
   "source": [
    "def color_filtering(path='test_images/straight_lines1.jpg', img = None, thresh = (200,255)):\n",
    "    if len(img) == 0:\n",
    "        img = mpimg.imread(path)\n",
    "    _, filename = os.path.split(path)\n",
    "    hls = cv2.cvtColor(img, cv2.COLOR_RGB2HLS)\n",
    "    S = hls[:,:,2]\n",
    "    binary = np.zeros_like(S)\n",
    "    binary[(S > thresh[0]) & (S <= thresh[1])] = 255\n",
    "    return binary\n",
    "#     cv2.imwrite(\"output_images/color_test/\" + filename, binary)\n",
    "def color_test():\n",
    "    images = glob.glob('test_images/*.jpg') \n",
    "    for path in images:\n",
    "        img = cv2.imread(path)\n",
    "        _, filename = os.path.split(path)\n",
    "        S = color_filtering(path)\n",
    "        output_path = 'output_images/color_test/' + filename\n",
    "        cv2.imwrite(output_path,S)\n"
   ]
  },
  {
   "cell_type": "code",
   "execution_count": null,
   "metadata": {},
   "outputs": [],
   "source": []
  },
  {
   "cell_type": "code",
   "execution_count": 75,
   "metadata": {},
   "outputs": [],
   "source": [
    "def pipeline_test():\n",
    "    images = glob.glob('test_images/*.jpg') \n",
    "    #read in cal file or re-cal\n",
    "    dist_pickle = {}\n",
    "    try:\n",
    "        infile = open(\"cam_cal.p\",'rb')\n",
    "        dist_pickle = pickle.load(infile)\n",
    "    except:\n",
    "        dist_pickle = camera_calibration()\n",
    "    for path in images:\n",
    "        img = cv2.imread(path)\n",
    "        _, filename = os.path.split(path)\n",
    "        \n",
    "        # undistortion\n",
    "        img = cv2.undistort(img, dist_pickle[\"mtx\"], dist_pickle[\"dist\"], None, dist_pickle[\"mtx\"])\n",
    "        \n",
    "        # gradient filtering\n",
    "        gradx, dir_binary, gradx_direct = filtering(img = img, path = path)\n",
    "        \n",
    "        # color filtering\n",
    "        S = color_filtering(img = img, path = path)\n",
    "        \n",
    "        # stack\n",
    "        color = np.dstack(( np.zeros_like(gradx_direct), gradx_direct, S))\n",
    "        \n",
    "        #Combine\n",
    "        combined_binary = np.zeros_like(gradx_direct)\n",
    "        combined_binary[(S == 255) | (gradx_direct == 255)] = 255\n",
    "        combined_binary = np.dstack((combined_binary,combined_binary,combined_binary))\n",
    "        \n",
    "        # output\n",
    "        output_path_s = 'output_images/pipeline_test/s_' + filename\n",
    "        output_path_x = 'output_images/pipeline_test/x_' + filename\n",
    "        output_path_dir = 'output_images/pipeline_test/dir_' + filename\n",
    "        output_path_x_dir = 'output_images/pipeline_test/x_dir_' + filename\n",
    "        output_path_origin = 'output_images/pipeline_test/origin_' + filename\n",
    "        output_path_color = 'output_images/pipeline_test/c_' + filename\n",
    "        output_path_combined = 'output_images/pipeline_test/combined_' + filename\n",
    "        vis = np.concatenate((img, combined_binary), axis=1)\n",
    "        \n",
    "#         cv2.imwrite(output_path_s,S)\n",
    "#         cv2.imwrite(output_path_x,gradx)\n",
    "#         cv2.imwrite(output_path_dir,dir_binary)\n",
    "#         cv2.imwrite(output_path_x_dir,gradx_direct)\n",
    "#         cv2.imwrite(output_path_origin,img)\n",
    "#         cv2.imwrite(output_path_color,color)\n",
    "#         cv2.imwrite(output_path_comined,combined_binary)\n",
    "        cv2.imwrite(output_path_combined,vis)\n",
    "        "
   ]
  },
  {
   "cell_type": "code",
   "execution_count": 76,
   "metadata": {},
   "outputs": [],
   "source": [
    "pipeline_test()"
   ]
  },
  {
   "cell_type": "code",
   "execution_count": null,
   "metadata": {},
   "outputs": [],
   "source": []
  }
 ],
 "metadata": {
  "anaconda-cloud": {},
  "kernelspec": {
   "display_name": "Python 3",
   "language": "python",
   "name": "python3"
  },
  "language_info": {
   "codemirror_mode": {
    "name": "ipython",
    "version": 3
   },
   "file_extension": ".py",
   "mimetype": "text/x-python",
   "name": "python",
   "nbconvert_exporter": "python",
   "pygments_lexer": "ipython3",
   "version": "3.7.6"
  }
 },
 "nbformat": 4,
 "nbformat_minor": 1
}
